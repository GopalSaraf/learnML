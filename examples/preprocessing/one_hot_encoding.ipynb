{
 "cells": [
  {
   "cell_type": "code",
   "execution_count": 1,
   "metadata": {},
   "outputs": [],
   "source": [
    "import numpy as np\n",
    "from learnML.preprocessing import OneHotEncoder"
   ]
  },
  {
   "cell_type": "code",
   "execution_count": 2,
   "metadata": {},
   "outputs": [],
   "source": [
    "data = np.array(\n",
    "    [\n",
    "        [\"New York\", \"Male\", 30],\n",
    "        [\"California\", \"Female\", 25],\n",
    "        [\"Florida\", \"Male\", 35],\n",
    "        [\"California\", \"Male\", 28],\n",
    "    ]\n",
    ")"
   ]
  },
  {
   "cell_type": "code",
   "execution_count": 3,
   "metadata": {},
   "outputs": [],
   "source": [
    "encoder = OneHotEncoder(data, indexes=[0, 1])\n",
    "encoder.fit()"
   ]
  },
  {
   "cell_type": "code",
   "execution_count": 4,
   "metadata": {},
   "outputs": [
    {
     "data": {
      "text/plain": [
       "array([[ 0.,  0.,  1.,  0.,  1., 30.],\n",
       "       [ 1.,  0.,  0.,  1.,  0., 25.],\n",
       "       [ 0.,  1.,  0.,  0.,  1., 35.],\n",
       "       [ 1.,  0.,  0.,  0.,  1., 28.]])"
      ]
     },
     "execution_count": 4,
     "metadata": {},
     "output_type": "execute_result"
    }
   ],
   "source": [
    "encoder.transform()"
   ]
  },
  {
   "cell_type": "code",
   "execution_count": 5,
   "metadata": {},
   "outputs": [
    {
     "data": {
      "text/plain": [
       "{'California': array([1., 0., 0.]),\n",
       " 'Florida': array([0., 1., 0.]),\n",
       " 'New York': array([0., 0., 1.]),\n",
       " 'Female': array([1., 0.]),\n",
       " 'Male': array([0., 1.])}"
      ]
     },
     "execution_count": 5,
     "metadata": {},
     "output_type": "execute_result"
    }
   ],
   "source": [
    "encoder.get_encodings()"
   ]
  }
 ],
 "metadata": {
  "kernelspec": {
   "display_name": "learnML-venv",
   "language": "python",
   "name": "python3"
  },
  "language_info": {
   "codemirror_mode": {
    "name": "ipython",
    "version": 3
   },
   "file_extension": ".py",
   "mimetype": "text/x-python",
   "name": "python",
   "nbconvert_exporter": "python",
   "pygments_lexer": "ipython3",
   "version": "3.11.4"
  },
  "orig_nbformat": 4
 },
 "nbformat": 4,
 "nbformat_minor": 2
}
